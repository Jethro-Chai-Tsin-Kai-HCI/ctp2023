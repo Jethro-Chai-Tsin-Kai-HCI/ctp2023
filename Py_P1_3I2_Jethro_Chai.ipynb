{
  "cells": [
    {
      "cell_type": "markdown",
      "metadata": {
        "id": "view-in-github",
        "colab_type": "text"
      },
      "source": [
        "<a href=\"https://colab.research.google.com/github/Jethro-Chai-Tsin-Kai-HCI/ctp2023/blob/main/Py_P1_3I2_Jethro_Chai.ipynb\" target=\"_parent\"><img src=\"https://colab.research.google.com/assets/colab-badge.svg\" alt=\"Open In Colab\"/></a>"
      ]
    },
    {
      "cell_type": "markdown",
      "metadata": {
        "id": "jp3BkDml8xiR"
      },
      "source": [
        "# **Python Programming Practical 1**\n",
        "\n",
        "If you do not have one already, create a [GitHub](https://github.com) account.\n",
        "\n",
        "Create a public repository ctp2023\n",
        "\n",
        "File --> Save a copy in GitHub under this repository\n",
        "\n",
        "For the following questions,\n",
        "\n",
        "*   standard input: keyboard\n",
        "*   standard output: screen\n",
        "\n"
      ]
    },
    {
      "cell_type": "markdown",
      "metadata": {
        "id": "-U8w0oQW9P_b"
      },
      "source": [
        "**Q1. (Converting Fahrenheit to Celsius)**\n",
        "\n",
        "Write a program that reads a Fahrenheit degree as a float from standard input, then converts it to Celsius and displays the result in standard output. The formula for the conversion is:\n",
        "```\n",
        "celsius = (5/9) * (fahrenheit - 32)\n",
        "```"
      ]
    },
    {
      "cell_type": "code",
      "execution_count": null,
      "metadata": {
        "id": "_y9qQ-MVMyqe"
      },
      "outputs": [],
      "source": [
        "F = float(input(\"Input the temperature in Fahrenheit: \"))\n",
        "C = 5/9*(F - 32.0)\n",
        "print(\"The temperature in Celsius is {:.2f}\".format(C))"
      ]
    },
    {
      "cell_type": "markdown",
      "metadata": {
        "id": "7Ui5CuS_9Za1"
      },
      "source": [
        "**Q2. (Computing the volume of a cylinder)**\n",
        "\n",
        "Write a program that reads in the radius and length of a cylinder and computes its volume using the formulae:\n",
        "```\n",
        "area = radius * radius * pi\n",
        "volume = area * length\n",
        "```\n",
        "\n",
        "\n"
      ]
    },
    {
      "cell_type": "code",
      "execution_count": null,
      "metadata": {
        "id": "yhefK3-hNIn-"
      },
      "outputs": [],
      "source": [
        "from math import pi\n",
        "h = float(input(\"What is the height of the cylinder? \"))\n",
        "r =float(input(\"What is the radius of the cylinder? \"))\n",
        "print (\"{:.2f} is the volume of the cylinder.\".format(pi*r**2*h))"
      ]
    },
    {
      "cell_type": "markdown",
      "metadata": {
        "id": "aVhHiT8w9c7d"
      },
      "source": [
        "**Q3. (Converting miles into kilometers)**\n",
        "\n",
        "Write a program that reads a number in miles, converts it to kilometres, and outputs the result. One mile is 1.60934 kilometres. Display your answer correct to 3 decimal places."
      ]
    },
    {
      "cell_type": "code",
      "execution_count": null,
      "metadata": {
        "id": "tu11BlggPqec"
      },
      "outputs": [],
      "source": [
        "m=float(input(\"Input the distance in miles: \"))\n",
        "print(\"{}miles = {:.2f}km\".format(m,m*1.60934))"
      ]
    },
    {
      "cell_type": "markdown",
      "metadata": {
        "id": "GwAIqQNY9gFd"
      },
      "source": [
        "**Q4. (Summing the digits in an integer)**\n",
        "\n",
        "Write a program that reads an integer between 0 and 1000 and adds all the digits in the integer. For example, if an integer is 932, the sum of all its digits is 14.\n",
        "\n",
        "Hint: Use the % operator to extract digits, and use the // operator to remove the extracted digit. For instance, 932 % 10 = 2 and 932 // 10 = 93"
      ]
    },
    {
      "cell_type": "code",
      "execution_count": null,
      "metadata": {
        "id": "sldCFQaUQ40E"
      },
      "outputs": [],
      "source": [
        "eda = str(input(\"Input the integer: \"))\n",
        "dg = [i for i in eda.zfill(4)]\n",
        "print(int(dg[1])+int(dg[2])+int(dg[3])+int(dg[0]))"
      ]
    },
    {
      "cell_type": "code",
      "execution_count": 10,
      "metadata": {
        "id": "8Hijq5b6STfo",
        "colab": {
          "base_uri": "https://localhost:8080/"
        },
        "outputId": "9c64fcef-eb42-4f5b-ef2a-893e2cb741ab"
      },
      "outputs": [
        {
          "output_type": "stream",
          "name": "stdout",
          "text": [
            "Input the integer: 321\n",
            "The sum of the digits of 321 is 6\n"
          ]
        }
      ],
      "source": [
        "eda = int(input(\"Input the integer: \"))\n",
        "print(\"The sum of the digits of {} is {}.\".format(eda,eda % 10 +eda %100//10+eda%1000//100+eda %10000//1000))"
      ]
    },
    {
      "cell_type": "markdown",
      "metadata": {
        "id": "lE0ScX9e9kcg"
      },
      "source": [
        "**Q5. (Converting an uppercase letter to lowercase)**\n",
        "\n",
        "Write a program that converts an uppercase letter from standard input to a lowercase letter by making use of its ASCII value.\n",
        "\n",
        "http://www.asciitable.com"
      ]
    },
    {
      "cell_type": "code",
      "execution_count": null,
      "metadata": {
        "id": "IqF9r183PgC4"
      },
      "outputs": [],
      "source": [
        "wow = input(\"Input the string to be converted: \")\n",
        "for i in wow:\n",
        "  if not i.isalpha():\n",
        "    print(i, end=\"\")\n",
        "  elif i.islower():\n",
        "    print(i,end=\"\")\n",
        "  elif i.isupper():\n",
        "    print(chr(ord(i)+32),end=\"\")\n"
      ]
    },
    {
      "cell_type": "markdown",
      "metadata": {
        "id": "KSviQY0T9m7Q"
      },
      "source": [
        "**Q6. (Finding the character of an ASCII code)**\n",
        "\n",
        "Write a program that receives an ASCII value (an integer between 0 and 127) and displays its character. For example, if the user enters 97, the program displays character a.\n",
        "\n",
        "http://www.asciitable.com"
      ]
    },
    {
      "cell_type": "code",
      "execution_count": null,
      "metadata": {
        "id": "W-8sdzCXR7jI"
      },
      "outputs": [],
      "source": [
        "qea = int(input(\"Enter the ACSII value(between 0 and 127): \"))\n",
        "print(chr(qea))"
      ]
    },
    {
      "cell_type": "markdown",
      "metadata": {
        "id": "V9Z95nlg97e4"
      },
      "source": [
        "**Q7. (Payroll)**\n",
        "\n",
        "Write a program that reads in the following information and prints a payroll statement. A sample input and output session is as follows:\n",
        "\n",
        "Sample input:\n",
        "```\n",
        "Enter name: Lim Ah Seng\n",
        "Enter number of hours worked weekly: 10\n",
        "Enter hourly pay rate: 6.75\n",
        "Enter CPF contribution rate(%): 20\n",
        "```\n",
        "\n",
        "Sample output:\n",
        "```\n",
        "Payroll statement for Lim Ah Seng\n",
        "Number of hours worked in week: 10\n",
        "Hourly pay rate: $6.75\n",
        "Gross pay = $67.50\n",
        "CPF contribution at 20% = $13.50\n",
        "Net pay = $54.00\n",
        "```\n",
        "\n"
      ]
    },
    {
      "cell_type": "code",
      "execution_count": null,
      "metadata": {
        "colab": {
          "background_save": true
        },
        "id": "EQUkZ4pKTRhx"
      },
      "outputs": [],
      "source": [
        "name = str(input(\"Enter name: \"))\n",
        "hrs = float(input(\"Enter number of hours worked weekly: \"))\n",
        "hrsrte = float(input(\"Enter hourly pay rate: \"))\n",
        "CPFrte = float(input(\"Enter CPF contribution rate(%): \"))\n",
        "print(\"\\nPayroll statement for {} \\nNumbers of hours worked in week: {} \\nHourly pay rate: ${}\\nGross pay = ${} \\nCPF contribution at {}% = ${} \\nNet pay = ${}\".format(name,hrs,hrsrte,hrsrte*hrs,CPFrte,CPFrte*hrsrte*hrs/100,hrsrte*hrs-CPFrte*hrsrte*hrs/100))"
      ]
    }
  ],
  "metadata": {
    "colab": {
      "provenance": [],
      "include_colab_link": true
    },
    "kernelspec": {
      "display_name": "Python 3",
      "name": "python3"
    }
  },
  "nbformat": 4,
  "nbformat_minor": 0
}